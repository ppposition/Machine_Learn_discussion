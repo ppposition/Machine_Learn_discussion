{
 "cells": [
  {
   "cell_type": "markdown",
   "metadata": {},
   "source": [
    "### FNO(Fourier Neural Operator)与算子范数学习"
   ]
  },
  {
   "cell_type": "markdown",
   "metadata": {},
   "source": [
    "首先简单介绍一种偏微分方程求解析解的方法：格林函数法  \n",
    "对于如下的偏微分方程：\n",
    "$$\\mathcal{L}_a(y(x))=f(x),x\\in D$$\n",
    "其中$\\mathcal{L}_a$是一个线性微分算子，下标a表示参数，我们有\n",
    "$$y(x)=\\int_{R^n}f(\\xi)G(x;\\xi)d\\xi$$\n",
    "其中G即为格林函数，满足\n",
    "$$\\mathcal{L}_aG(x;\\xi)=\\delta(x-\\xi)$$\n",
    "其中函数$\\delta(x-\\xi)$(即狄拉克函数)满足如下三个条件：  \n",
    "(1)$\\rho(x)=\\int\\rho(\\xi)\\delta(x-\\xi)d\\xi$  \n",
    "(2)if $\\xi=x,\\delta(x-\\xi)=\\infty$;  $\\xi\\neq x,\\delta(x-\\xi)=0$  \n",
    "(3)$\\int\\delta(x-\\xi)d\\xi=1$  \n",
    "根据(2),(3)我们还有如下推论：\n",
    "$$\\forall x \\in D,\\int_D\\delta(x-\\xi)d\\xi=1$$  \n",
    "因此求解上述偏微分方程的步骤可以转为如下过程：  \n",
    "(1)求解格林函数G满足$\\mathcal{L}_aG(x;\\xi)=\\delta(x-\\xi)$  \n",
    "(2)$u(x)=\\int_D \\mathcal{L}_aG(x;\\xi)d\\xi$\n"
   ]
  },
  {
   "cell_type": "markdown",
   "metadata": {},
   "source": [
    "根据上述格林函数，我们可以设计神经网络结构来求解微分算子。假设我们有如下微分方程：\n",
    "$$\n",
    "(\\mathcal{L}_au)(x)=f(x),x\\in D\\\\\n",
    "u(x)=g(x),x\\in \\partial D\n",
    "$$\n",
    "其中a为参数，目标是求解算子$\\mathcal{L}_a$，而格林函数成立的前提条件为叠加原理成立，也即$\\mathcal{L}_a$为线性算子，我们使用神经网络的非线性激活函数，即可求解非线性算子。  \n",
    "神经网络一般设计成多层的结构，层数用下标t表示，各层之间满足的关系式如下:\n",
    "$$\n",
    "v_{t+1}(x)=\\sigma(Wv_t(x)+\\int_D\\kappa_{\\phi}(x,y,a(x),a(y))v_t(y)\\nu_x(dy))\n",
    "$$\n",
    "其中各个符号的意义为L:$v_{t}$为对应层的输出，$v_{0}$为$f(x)$，$\\sigma$为激活函数，$\\kappa_{\\phi}$为神经网络，$a(x),a(y)$为参数，$\\nu_x$表示Borel测度，在Lebesgue测度下$\\nu_x(dy)=dy$。  \n",
    "通过这样的神经网络，我们可以建立从参数a到函数u的映射，也可以建立f和u的映射，甚至g和u的映射"
   ]
  },
  {
   "cell_type": "markdown",
   "metadata": {},
   "source": [
    "求解的框架的一般形式如下，其中$P$和$Q$可以理解成encoder(编码器)和decoder(解码器)，即使用神经网络映射成更高维度的channel space，然后最后再恢复回目标的channel space  \n",
    "$$\n",
    "v_0=P(x,a(x),a_{\\epsilon}(x),\\nabla a_{\\epsilon}(x))+p\\\\\n",
    "v_{t+1}=\\sigma(Wv_t(x)+\\int_{B(x,r)}\\kappa_{\\phi}(x,y,a(x),a(y))v_t(y)dy)\\\\\n",
    "u(x)=Qv_T(x)+q\n",
    "$$\n",
    "而不同的operator则给出了不同的处理如下积分的方法\n",
    "$$\\int_D\\kappa_{\\phi}(x,y,a(x),a(y))v_t(y)\\nu_x(dy)$$\n",
    "以下采用FNO(Fourier Neural Operator)"
   ]
  },
  {
   "cell_type": "markdown",
   "metadata": {},
   "source": [
    "FNO的结构图如下 \n",
    "<div align=center><img src=\"2.jpg\"></div>"
   ]
  },
  {
   "cell_type": "markdown",
   "metadata": {},
   "source": [
    "上图，(a)即为上面求解框架的图示，输入为参数$a(x)$，经过P这个神经网络映射到高维，然后经历T个Fourier Layer，经过Q之后输出为$u(x)$。图(b)则表达了一个Fourier Layer内部都经历了哪些过程，其中$v(x)$进来以后，经过Fourier变换，将其转化到Fourier空间，R则是一个线性变换，目的是滤掉高频模态，然后用Fourier逆变换将其转化回源空间,R之所以不选用神经网络映射作者说是因为实验发现线性效果更好，下面那条支路就类似于ResNet的结构，可以防止梯度消失。相加求和之后，经过激活函数进行非线性映射。"
   ]
  },
  {
   "cell_type": "markdown",
   "metadata": {},
   "source": [
    "Fourier Operator解决核积分问题的机制如下，以下用$\\mathcal{K}$表示核积分算子，即\n",
    "$$(\\mathcal{K}(a;\\phi)v_t)(x):=\\int_D\\kappa_{\\phi}(x,y,a(x),a(y);\\phi)v_t(y)dy$$\n",
    "傅里叶变换的表达式如下:\n",
    "$$(\\mathcal{F}f)_j(k)=\\int_Df_j(x)e^{-2i\\pi<x,k>}dx,(\\mathcal{F}^{-1}f)_j(x)=\\int_Df_j(k)e^{-2i\\pi<x,k>}dk$$\n",
    "这样我们可以推出：\n",
    "$$(\\mathcal{K}(a;\\phi)v_t)(x)=\\mathcal{F}^{-1}(\\mathcal{F}(\\kappa_{\\phi})\\times\\mathcal{F}(v_t))(x),\\forall x\\in D$$\n",
    "而在神经网络中$\\mathcal{F}(\\kappa_{\\phi})$即为$R_\\phi$，因此我们有\n",
    "$$(\\mathcal{K}(a;\\phi)v_t)(x)=\\mathcal{F}^{-1}(R_\\phi\\times\\mathcal{F}(v_t))(x),\\forall x\\in D$$\n",
    "而从上面我们已经有：\n",
    "$$\n",
    "v_{t+1}(x)=\\sigma(Wv_t(x)+(\\mathcal{K}(a;\\phi)v_t)(x))\n",
    "$$\n",
    "此即该模型的数学原理。"
   ]
  },
  {
   "cell_type": "markdown",
   "metadata": {},
   "source": [
    "以下用代码实现FNO求解1-d Burgers’ equation。"
   ]
  },
  {
   "cell_type": "markdown",
   "metadata": {},
   "source": [
    "1-d Burgers’ equation的形式如下：\n",
    "$$\n",
    "\\partial_tu(x,t)+\\partial_x(u^2(x,t)/2)=v\\partial_{xx}u(x,t),x\\in(0,1),t\\in(0,1]\\\\\n",
    "u(x,0)=u_0(x),x\\in(0,1)\n",
    "$$\n",
    "我们要求解的算子$G$为$G:u_0\\mapsto u(\\cdot,1)$"
   ]
  },
  {
   "cell_type": "markdown",
   "metadata": {},
   "source": [
    "首先导入需要的库"
   ]
  },
  {
   "cell_type": "code",
   "execution_count": 6,
   "metadata": {},
   "outputs": [],
   "source": [
    "import torch.nn as nn\n",
    "import torch\n",
    "import torch.nn.functional as F\n",
    "from utilities3 import *\n",
    "import matplotlib.pyplot as plt\n",
    "torch.manual_seed(0)\n",
    "np.random.seed(0)\n",
    "device=torch.device(\"cuda\" if torch.cuda.is_available else \"cpu\")"
   ]
  },
  {
   "cell_type": "markdown",
   "metadata": {},
   "source": [
    "先设置超参数"
   ]
  },
  {
   "cell_type": "code",
   "execution_count": 7,
   "metadata": {},
   "outputs": [],
   "source": [
    "ntrain=1000 #训练点的个数\n",
    "ntest=100 #测试点的个数\n",
    "\n",
    "sub = 2**3 #采样频率\n",
    "h = 2**13 // sub #网格大小除以采样频率\n",
    "s = h #神经网络输入中每个数据点所包含的点的个数\n",
    "\n",
    "batch_size = 20\n",
    "learning_rate = 0.001\n",
    "\n",
    "epochs = 500\n",
    "step_size = 50\n",
    "gamma = 0.5\n",
    "\n",
    "modes = 16#线性变换R所要保留的频率数\n",
    "width = 64#线性变换的层数"
   ]
  },
  {
   "cell_type": "markdown",
   "metadata": {},
   "source": [
    "接下来我们先从burgers_data_R10.mat中导入我们需要的数据，实例化一个MatReader类(该类的定义包含在utilities3.py中)  \n",
    "data的shape为(number of samples,grid size)"
   ]
  },
  {
   "cell_type": "code",
   "execution_count": 8,
   "metadata": {},
   "outputs": [
    {
     "name": "stdout",
     "output_type": "stream",
     "text": [
      "torch.Size([2048, 1024]) torch.Size([2048, 1024])\n"
     ]
    },
    {
     "data": {
      "image/png": "[encoded data removed]",
      "text/plain": [
       "<Figure size 432x288 with 1 Axes>"
      ]
     },
     "metadata": {
      "needs_background": "light"
     },
     "output_type": "display_data"
    }
   ],
   "source": [
    "dataloader=MatReader('burgers_data_R10.mat')\n",
    "x_data=dataloader.read_field('a')[:,::sub]#按照所给的采样频率采样\n",
    "y_data=dataloader.read_field('u')[:,::sub]\n",
    "print(x_data.size(),y_data.size())\n",
    "\n",
    "test_x,test_y=x_data[0],y_data[0]\n",
    "plt.plot(np.linspace(0,1,test_x.size()[0]),test_x,label=f'$u_0$')\n",
    "plt.plot(np.linspace(0,1,test_x.size()[0]),test_y,label=f'$u(\\cdot,1)$')\n",
    "plt.legend(loc='best')\n",
    "\n",
    "x_train=x_data[:ntrain,:]#取前ntrain个点作为训练集\n",
    "y_train=y_data[:ntrain,:]\n",
    "x_test=x_data[-ntest:,:]#取后ntest个点作为训练集\n",
    "y_test=y_data[-ntest:,:]\n",
    "\n",
    "x_train=x_train.reshape(ntrain,s,1)#修改测试数据的维度，在该例子中数据点的维度为(s,1)\n",
    "x_test=x_test.reshape(ntest,s,1)\n",
    "\n",
    "train_loader=torch.utils.data.DataLoader(torch.utils.data.TensorDataset(x_train,y_train),batch_size=batch_size,shuffle=True)\n",
    "test_loader=torch.utils.data.DataLoader(torch.utils.data.TensorDataset(x_test,y_test),batch_size=batch_size,shuffle=False)\n"
   ]
  },
  {
   "cell_type": "markdown",
   "metadata": {},
   "source": [
    "接下来定义Fourier layer，进行FFT，再通过线性变化层R，最后再经过IFT"
   ]
  },
  {
   "cell_type": "code",
   "execution_count": 10,
   "metadata": {},
   "outputs": [],
   "source": [
    "class SpectralConv1d(nn.Module):\n",
    "    #初始化，输入为输入通道数，输出通道数，以及Fourier modes，可以看作保留的频率大小\n",
    "    def __init__(self,in_channels,out_channels,modes1) -> None:\n",
    "        super().__init__()\n",
    "        self.in_channels=in_channels\n",
    "        self.out_channels=out_channels\n",
    "        self.modes1=modes1\n",
    "        self.scale=(1/(in_channels*out_channels))\n",
    "        #初始化权重，tensor的类型为cfloat，也即复浮点数\n",
    "        self.weights1=nn.Parameter(self.scale*torch.rand(in_channels,out_channels,self.modes1,dtype=torch.cfloat))\n",
    "    \n",
    "    #定义复数张量乘法，我们需要把输入和权重相乘，最后一个维度保持不变，shape of tensor的变换为\n",
    "    #(batch,in_channel,x),(in_channel,out_channel,x)->(batch,out_channel,x)\n",
    "    def compl_mul1d(self,input,weights):\n",
    "        return torch.einsum(\"bix,iox->box\",input,weights)\n",
    "    \n",
    "    #向前传播\n",
    "    def forward(self,x):\n",
    "        batchsize=x.shape[0]\n",
    "        #离散傅里叶变换，这里采用rfft，因为离散傅里叶变换中x[k]与x[n-k]项是共轭的，所以只需保留其中的N/2+1项\n",
    "        x_ft=torch.fft.rfft(x)\n",
    "\n",
    "        #初始化输出为全零矩阵，然后将我们要保留的频率的参数修改为输入和权重的乘积\n",
    "        out_ft=torch.zeros(batchsize,self.out_channels,x.size(-1)//2+1,device=x.device,dtype=torch.cfloat)\n",
    "        out_ft[:,:,:self.modes1]=self.compl_mul1d(x_ft[:,:,:self.modes1],self.weights1)\n",
    "\n",
    "        #DFT逆变换\n",
    "        x=torch.fft.irfft(out_ft,n=x.size(-1))\n",
    "        return x"
   ]
  },
  {
   "cell_type": "markdown",
   "metadata": {},
   "source": [
    "接下来定义神经网络，总共包含了4层Fourier layer，公式为\n",
    "$$\n",
    "v_{t+1}(x)=\\sigma(Wv_t(x)+(\\mathcal{K}(a;\\phi)v_t)(x))\n",
    "$$\n",
    "因此我们还需要四个一维卷积参数W.  \n",
    "我们首先通过线性层fc0将输入的维度转化为我们设定的维度，然后通过四个Fourier layer,最后再通过fc1和fc2降维并得到输出结果。"
   ]
  },
  {
   "cell_type": "code",
   "execution_count": 11,
   "metadata": {},
   "outputs": [
    {
     "name": "stdout",
     "output_type": "stream",
     "text": [
      "549569\n",
      "torch.Size([1, 1024, 1])\n",
      "FNO1d(\n",
      "  (fc0): Linear(in_features=2, out_features=64, bias=True)\n",
      "  (conv0): SpectralConv1d()\n",
      "  (conv1): SpectralConv1d()\n",
      "  (conv2): SpectralConv1d()\n",
      "  (conv3): SpectralConv1d()\n",
      "  (w0): Conv1d(64, 64, kernel_size=(1,), stride=(1,))\n",
      "  (w1): Conv1d(64, 64, kernel_size=(1,), stride=(1,))\n",
      "  (w2): Conv1d(64, 64, kernel_size=(1,), stride=(1,))\n",
      "  (w3): Conv1d(64, 64, kernel_size=(1,), stride=(1,))\n",
      "  (fc1): Linear(in_features=64, out_features=128, bias=True)\n",
      "  (fc2): Linear(in_features=128, out_features=1, bias=True)\n",
      ")\n"
     ]
    }
   ],
   "source": [
    "class FNO1d(nn.Module):\n",
    "    #初始化输入为保留的频率，以及Fourier layer的宽度\n",
    "    def __init__(self,modes,width) -> None:\n",
    "        super().__init__()\n",
    "        self.modes1=modes\n",
    "        self.width=width\n",
    "        self.padding=2 # 如果输入不是周期性的，则需要填充域\n",
    "        self.fc0=nn.Linear(2,self.width)#线性层\n",
    "\n",
    "        #四层Fourier layer\n",
    "        self.conv0=SpectralConv1d(self.width,self.width,self.modes1)\n",
    "        self.conv1=SpectralConv1d(self.width,self.width,self.modes1)\n",
    "        self.conv2=SpectralConv1d(self.width,self.width,self.modes1)\n",
    "        self.conv3=SpectralConv1d(self.width,self.width,self.modes1)\n",
    "\n",
    "        self.w0=nn.Conv1d(self.width,self.width,1)\n",
    "        self.w1=nn.Conv1d(self.width,self.width,1)\n",
    "        self.w2=nn.Conv1d(self.width,self.width,1)\n",
    "        self.w3=nn.Conv1d(self.width,self.width,1)\n",
    "\n",
    "        self.fc1=nn.Linear(self.width,128)\n",
    "        self.fc2=nn.Linear(128,1)\n",
    "    \n",
    "    def forward(self,x):\n",
    "        #处理输入数据并通过线性层\n",
    "        grid=self.get_grid(x.shape,x.device)\n",
    "        x=torch.cat((x,grid),dim=-1)\n",
    "        x=self.fc0(x)\n",
    "        x=x.permute(0,2,1)\n",
    "        #x=F.pad(x,[0,self.padding])#如果输入不是周期性的，则需要填充域\n",
    "        \n",
    "        #接下来经过四层Fourier layer\n",
    "        x1 = self.conv0(x)\n",
    "        x2 = self.w0(x)\n",
    "        x = x1 + x2\n",
    "        x = F.gelu(x)\n",
    "\n",
    "        x1 = self.conv1(x)\n",
    "        x2 = self.w1(x)\n",
    "        x = x1 + x2\n",
    "        x = F.gelu(x)\n",
    "\n",
    "        x1 = self.conv2(x)\n",
    "        x2 = self.w2(x)\n",
    "        x = x1 + x2\n",
    "        x = F.gelu(x)\n",
    "\n",
    "        x1 = self.conv3(x)\n",
    "        x2 = self.w3(x)\n",
    "        x = x1 + x2\n",
    "\n",
    "        #最后再变换维度，并通过线性层\n",
    "        # x = x[..., :-self.padding] #如果输入不是周期性的，则需要填充域\n",
    "        x=x.permute(0,2,1)\n",
    "        x=self.fc1(x)\n",
    "        x=F.gelu(x)\n",
    "        x=self.fc2(x)\n",
    "        return x\n",
    "    \n",
    "    def get_grid(self,shape,device):\n",
    "        batchsize,size_x=shape[0],shape[1]\n",
    "        gridx=torch.tensor(np.linspace(0,1,size_x),dtype=torch.float)\n",
    "        gridx=gridx.reshape(1,size_x,1).repeat([batchsize,1,1])\n",
    "        return gridx.to(device)\n",
    "\n",
    "model=FNO1d(modes,width).to(device)\n",
    "print(count_params(model))\n",
    "X=torch.rand(1,s,1).to(device)\n",
    "print(model(X).size())\n",
    "print(model)"
   ]
  },
  {
   "cell_type": "markdown",
   "metadata": {},
   "source": [
    "注：这里的激活函数采用GELU函数，其数学定义为\n",
    "$$GELU(x)=0.5x(1+tan(\\sqrt{\\frac{2}{\\pi}}(x+0.044715x^3)))$$\n",
    "画出与RELU函数的对比图像如下，可以看出其与RELU十分接近，但其在x=0处是可导的"
   ]
  },
  {
   "cell_type": "code",
   "execution_count": 33,
   "metadata": {},
   "outputs": [
    {
     "data": {
      "text/plain": [
       "<matplotlib.legend.Legend at 0x2d36d530f70>"
      ]
     },
     "execution_count": 33,
     "metadata": {},
     "output_type": "execute_result"
    },
    {
     "data": {
      "image/png": "[encoded data removed]",
      "text/plain": [
       "<Figure size 432x288 with 1 Axes>"
      ]
     },
     "metadata": {
      "needs_background": "light"
     },
     "output_type": "display_data"
    }
   ],
   "source": [
    "x=torch.linspace(-5,5,1000)\n",
    "plt.plot(x,F.relu(x),label='relu')\n",
    "plt.plot(x,F.gelu(x),label='gelu')\n",
    "plt.legend(loc='best')"
   ]
  },
  {
   "cell_type": "markdown",
   "metadata": {},
   "source": [
    "接下来开始训练过程"
   ]
  },
  {
   "cell_type": "code",
   "execution_count": 8,
   "metadata": {},
   "outputs": [
    {
     "name": "stdout",
     "output_type": "stream",
     "text": [
      "epoch:0,train_loss:0.329114,test_loss:0.057181\n",
      "epoch:50,train_loss:0.005875,test_loss:0.004635\n",
      "epoch:100,train_loss:0.003684,test_loss:0.003240\n",
      "epoch:150,train_loss:0.004167,test_loss:0.004110\n",
      "epoch:200,train_loss:0.001202,test_loss:0.001563\n",
      "epoch:250,train_loss:0.000687,test_loss:0.000764\n",
      "epoch:300,train_loss:0.000574,test_loss:0.000754\n",
      "epoch:350,train_loss:0.000523,test_loss:0.000670\n",
      "epoch:400,train_loss:0.000466,test_loss:0.000615\n",
      "epoch:450,train_loss:0.000430,test_loss:0.000604\n"
     ]
    }
   ],
   "source": [
    "optimizer=torch.optim.Adam(model.parameters(),lr=learning_rate,weight_decay=1e-4)#Adam优化\n",
    "scheduler=torch.optim.lr_scheduler.StepLR(optimizer,step_size=step_size,gamma=gamma)#按步长减小学习率\n",
    "myloss=LpLoss(size_average=False)#即两个向量之差的Lp范数，其中p默认为2\n",
    "\n",
    "for epoch in range(epochs):\n",
    "    model.train()\n",
    "    train_l2=0\n",
    "    for x,y in train_loader:\n",
    "        x,y=x.to(device),y.to(device)\n",
    "        out=model(x)\n",
    "        l2=myloss(out.view(batch_size,-1),y.view(batch_size,-1))\n",
    "        optimizer.zero_grad()\n",
    "        l2.backward()\n",
    "        optimizer.step()\n",
    "        train_l2+=l2.item()\n",
    "    scheduler.step()\n",
    "    if epoch%50==0:\n",
    "        #测试集计算测试误差\n",
    "        model.eval()\n",
    "        test_l2=0.0\n",
    "        with torch.no_grad():\n",
    "            for x,y in test_loader:\n",
    "                x,y=x.to(device),y.to(device)\n",
    "                out=model(x)\n",
    "                test_l2+=myloss(out.view(batch_size,-1),y.view(batch_size,-1)).item()\n",
    "        \n",
    "        train_l2/=ntrain\n",
    "        test_l2/=ntest\n",
    "\n",
    "        print(\"epoch:{},train_loss:{:.6f},test_loss:{:.6f}\".format(epoch,train_l2,test_l2))\n",
    "torch.save(model.state_dict(),'FNO.pt')"
   ]
  },
  {
   "cell_type": "markdown",
   "metadata": {},
   "source": [
    "接下来对测试数据中的一组，画出预测图线与实际图线"
   ]
  },
  {
   "cell_type": "code",
   "execution_count": 29,
   "metadata": {},
   "outputs": [
    {
     "name": "stdout",
     "output_type": "stream",
     "text": [
      "torch.Size([1, 1024])\n",
      "1024\n"
     ]
    },
    {
     "data": {
      "text/plain": [
       "<matplotlib.legend.Legend at 0x2d36d47e400>"
      ]
     },
     "execution_count": 29,
     "metadata": {},
     "output_type": "execute_result"
    },
    {
     "data": {
      "image/png": "[encoded data removed]",
      "text/plain": [
       "<Figure size 432x288 with 1 Axes>"
      ]
     },
     "metadata": {
      "needs_background": "light"
     },
     "output_type": "display_data"
    }
   ],
   "source": [
    "test_x,test_y=x_test[0:1].to(device),y_test[0]\n",
    "print(model(test_x).view(1,-1).size())\n",
    "predict=model(test_x).view(-1).cpu().detach().numpy()\n",
    "print(predict.size)\n",
    "plt.scatter(np.linspace(0,1,predict.size)[::100],predict[::100],label='predict',c='r')\n",
    "plt.plot(np.linspace(0,1,test_y.size()[0]),test_y.numpy(),label='real')\n",
    "plt.legend(loc='best')"
   ]
  },
  {
   "cell_type": "markdown",
   "metadata": {},
   "source": [
    "接下来对之前用DeepONet求解过的积分算子采用FNO进行求解"
   ]
  },
  {
   "cell_type": "markdown",
   "metadata": {},
   "source": [
    "重新设置超参数"
   ]
  },
  {
   "cell_type": "code",
   "execution_count": 27,
   "metadata": {},
   "outputs": [],
   "source": [
    "batch_size = 20\n",
    "learning_rate = 0.005\n",
    "gamma = 0.999\n",
    "\n",
    "epochs = 500\n",
    "step_size = 50\n",
    "\n",
    "modes = 16#线性变换R所要保留的频率数\n",
    "width = 64#线性变换的层数"
   ]
  },
  {
   "cell_type": "markdown",
   "metadata": {},
   "source": [
    "首先导入数据"
   ]
  },
  {
   "cell_type": "code",
   "execution_count": 29,
   "metadata": {},
   "outputs": [
    {
     "name": "stdout",
     "output_type": "stream",
     "text": [
      "torch.Size([150, 100, 1]) torch.Size([100, 1]) torch.Size([150, 100])\n",
      "torch.Size([1000, 100, 1]) torch.Size([100, 1]) torch.Size([1000, 100])\n"
     ]
    }
   ],
   "source": [
    "d=np.load(\"antiderivative_aligned_train.npz\",allow_pickle=True)\n",
    "X_train=(d[\"X\"][0].astype(np.float32),d[\"X\"][1].astype(np.float32))\n",
    "y_train=d[\"y\"].astype(np.float32)\n",
    "X_train=[torch.from_numpy(X_train[0]).view(150,100,1).to(device),torch.from_numpy(X_train[1]).to(device)]\n",
    "y_train=torch.from_numpy(y_train).to(device)\n",
    "print(X_train[0].shape,X_train[1].shape,y_train.shape)\n",
    "train_loader=torch.utils.data.DataLoader(\n",
    "    dataset=torch.utils.data.TensorDataset(X_train[0],y_train),\n",
    "    batch_size=batch_size,\n",
    "    shuffle=True,\n",
    ")\n",
    "d=np.load(\"antiderivative_aligned_test.npz\",allow_pickle=True)\n",
    "X_test=(d[\"X\"][0].astype(np.float32),d[\"X\"][1].astype(np.float32))\n",
    "y_test=d[\"y\"].astype(np.float32)\n",
    "X_test=[torch.from_numpy(X_test[0]).view(1000,100,1).to(device),torch.from_numpy(X_test[1]).to(device)]\n",
    "y_test=torch.from_numpy(y_test).to(device)\n",
    "print(X_test[0].shape,X_test[1].shape,y_test.shape)"
   ]
  },
  {
   "cell_type": "markdown",
   "metadata": {},
   "source": [
    "我们再实例化一个model，用来训练积分算子神经网络"
   ]
  },
  {
   "cell_type": "code",
   "execution_count": 30,
   "metadata": {},
   "outputs": [
    {
     "name": "stdout",
     "output_type": "stream",
     "text": [
      "epoch:0\n",
      "train loss:0.170201, test loss:0.152591\n",
      "epoch:50\n",
      "train loss:0.000124, test loss:0.000189\n",
      "epoch:100\n",
      "train loss:0.000510, test loss:0.000612\n",
      "epoch:150\n",
      "train loss:0.000014, test loss:0.000094\n",
      "epoch:200\n",
      "train loss:0.000008, test loss:0.000065\n",
      "epoch:250\n",
      "train loss:0.000006, test loss:0.000056\n",
      "epoch:300\n",
      "train loss:0.000004, test loss:0.000051\n",
      "epoch:350\n",
      "train loss:0.000005, test loss:0.000049\n",
      "epoch:400\n",
      "train loss:0.000003, test loss:0.000046\n",
      "epoch:450\n",
      "train loss:0.000003, test loss:0.000044\n"
     ]
    }
   ],
   "source": [
    "model1=FNO1d(modes,width).to(device)\n",
    "loss_func=nn.MSELoss()\n",
    "optimizer=torch.optim.Adam(model1.parameters(),lr=learning_rate)\n",
    "scheduler=torch.optim.lr_scheduler.ExponentialLR(optimizer,gamma)\n",
    "for epoch in range(epochs):\n",
    "    for x,y in train_loader:\n",
    "        output=model1(x)\n",
    "        loss=loss_func(output.view(batch_size,-1),y.view(batch_size,-1))\n",
    "        optimizer.zero_grad()\n",
    "        loss.backward()\n",
    "        optimizer.step()\n",
    "        scheduler.step()\n",
    "    if epoch%50==0:\n",
    "        model1.eval()\n",
    "        with torch.no_grad():\n",
    "            train_predict=model1(X_train[0])\n",
    "            loss_train=loss_func(train_predict.view(150,-1),y_train.view(150,-1)).mean().item()\n",
    "            test_predict=model1(X_test[0])\n",
    "            loss_test=loss_func(test_predict.view(1000,-1),y_test.view(1000,-1)).mean().item()\n",
    "            print(\"epoch:{}\".format(epoch))\n",
    "            print(\"train loss:{:.6f}, test loss:{:.6f}\".format(loss_train,loss_test))\n",
    "        model1.train()\n",
    "torch.save(model1.state_dict(),'intFNO.pt')\n",
    "        "
   ]
  },
  {
   "cell_type": "markdown",
   "metadata": {},
   "source": [
    "将测试数据集中的一组数据可视化"
   ]
  },
  {
   "cell_type": "code",
   "execution_count": 38,
   "metadata": {},
   "outputs": [
    {
     "data": {
      "text/plain": [
       "<matplotlib.legend.Legend at 0x2496894aee0>"
      ]
     },
     "execution_count": 38,
     "metadata": {},
     "output_type": "execute_result"
    },
    {
     "data": {
      "image/png": "[encoded data removed]",
      "text/plain": [
       "<Figure size 432x288 with 1 Axes>"
      ]
     },
     "metadata": {
      "needs_background": "light"
     },
     "output_type": "display_data"
    }
   ],
   "source": [
    "test_x=X_test[0][:1].to(device)\n",
    "predict=model1(test_x)\n",
    "plt.scatter(test_x.cpu().view(-1).detach().numpy()[::10],predict.view(-1).cpu().detach().numpy()[::10],label='predict')\n",
    "plt.plot(test_x.cpu().view(-1).detach().numpy(),y_test[0].cpu().view(-1).detach().numpy(),label='real')\n",
    "plt.legend(loc='best')"
   ]
  }
 ],
 "metadata": {
  "kernelspec": {
   "display_name": "Python 3.9.12 ('my_python_env')",
   "language": "python",
   "name": "python3"
  },
  "language_info": {
   "codemirror_mode": {
    "name": "ipython",
    "version": 3
   },
   "file_extension": ".py",
   "mimetype": "text/x-python",
   "name": "python",
   "nbconvert_exporter": "python",
   "pygments_lexer": "ipython3",
   "version": "3.9.12"
  },
  "orig_nbformat": 4,
  "vscode": {
   "interpreter": {
    "hash": "08641baf95f71374bfddb11845ac270f3b06a44ea56d52fc15d31c7be05646fa"
   }
  }
 },
 "nbformat": 4,
 "nbformat_minor": 2
}
